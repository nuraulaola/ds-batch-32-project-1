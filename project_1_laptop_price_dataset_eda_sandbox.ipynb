{
  "nbformat": 4,
  "nbformat_minor": 0,
  "metadata": {
    "colab": {
      "provenance": [],
      "toc_visible": true
    },
    "kernelspec": {
      "name": "python3",
      "display_name": "Python 3"
    },
    "language_info": {
      "name": "python"
    }
  },
  "cells": [
    {
      "cell_type": "markdown",
      "source": [
        "# Connect to G-Drive"
      ],
      "metadata": {
        "id": "xYkvT2yINhc0"
      }
    },
    {
      "cell_type": "code",
      "source": [
        "# Mount Google Drive\n",
        "from google.colab import drive\n",
        "drive.mount('/content/drive')"
      ],
      "metadata": {
        "id": "WU_xfe0DNhRh"
      },
      "execution_count": null,
      "outputs": []
    },
    {
      "cell_type": "markdown",
      "source": [
        "## Change Notebook Default Directory"
      ],
      "metadata": {
        "id": "upZT0ir-x0mU"
      }
    },
    {
      "cell_type": "code",
      "source": [
        "import os\n",
        "file_dir = \"...\"\n",
        "os.chdir(file_dir)"
      ],
      "metadata": {
        "id": "TI1MfW9lNhOa"
      },
      "execution_count": null,
      "outputs": []
    },
    {
      "cell_type": "code",
      "source": [
        "!ls"
      ],
      "metadata": {
        "id": "iJFMrLw8x_xW"
      },
      "execution_count": null,
      "outputs": []
    },
    {
      "cell_type": "markdown",
      "source": [
        "# Import Libraries"
      ],
      "metadata": {
        "id": "8tX5CDH6NdJM"
      }
    },
    {
      "cell_type": "code",
      "source": [
        "# Data Analysis Libraries\n",
        "import pandas as pd\n",
        "import numpy as np\n",
        "\n",
        "# Data Viz Libraries\n",
        "import matplotlib.pyplot as plt\n",
        "import seaborn as sns\n",
        "sns.set_style(\"whitegrid\")\n",
        "sns.despine()\n",
        "plt.style.use(\"seaborn-whitegrid\")\n",
        "plt.rc(\"figure\", autolayout=True)\n",
        "plt.rc(\"axes\",\n",
        "       labelweight=\"bold\",\n",
        "       labelsize=\"large\",\n",
        "       titleweight=\"bold\",\n",
        "       titlesize=14,\n",
        "       titlepad=10\n",
        ")\n",
        "\n",
        "# RegEx\n",
        "import regex as re"
      ],
      "metadata": {
        "id": "PhOq2MObNcjV"
      },
      "execution_count": null,
      "outputs": []
    },
    {
      "cell_type": "markdown",
      "source": [
        "# Load Dataset"
      ],
      "metadata": {
        "id": "_CNtr-_cNr6n"
      }
    },
    {
      "cell_type": "code",
      "source": [
        "csv_filename = \"[Complete]Laptop_Price.csv\"\n",
        "df = pd.read_csv(csv_filename)\n",
        "\n",
        "df.head()"
      ],
      "metadata": {
        "id": "jH1OJOdxNrhs"
      },
      "execution_count": null,
      "outputs": []
    },
    {
      "cell_type": "markdown",
      "source": [
        "## DataFrame's Info"
      ],
      "metadata": {
        "id": "d2_bruRb2FIJ"
      }
    },
    {
      "cell_type": "code",
      "source": [
        "# DataFrame shape\n",
        "df.shape"
      ],
      "metadata": {
        "id": "gDv42YFb3RC1"
      },
      "execution_count": null,
      "outputs": []
    },
    {
      "cell_type": "code",
      "source": [
        "df.info()"
      ],
      "metadata": {
        "id": "JngZiK2q16YG"
      },
      "execution_count": null,
      "outputs": []
    },
    {
      "cell_type": "markdown",
      "source": [
        "Observations:\n",
        "\n",
        "*   ...\n",
        "*   ...\n",
        "*   ...\n",
        "\n",
        "\n",
        "\n"
      ],
      "metadata": {
        "id": "7_IEFnps2Nww"
      }
    },
    {
      "cell_type": "markdown",
      "source": [
        "## Describe Dataframe"
      ],
      "metadata": {
        "id": "l6ND3h4p3i82"
      }
    },
    {
      "cell_type": "code",
      "source": [
        "df.describe()"
      ],
      "metadata": {
        "id": "_mJ67Dup16Nz"
      },
      "execution_count": null,
      "outputs": []
    },
    {
      "cell_type": "markdown",
      "source": [
        "Using the '**describe**' method of the dataframe, we can get some first insights on the numerical columns.\n",
        "\n",
        "Observations:\n",
        "\n",
        "* ...\n",
        "\n",
        "* ...\n",
        "* ..."
      ],
      "metadata": {
        "id": "0dBDr0yc34mE"
      }
    },
    {
      "cell_type": "markdown",
      "source": [
        "# Data Cleaning"
      ],
      "metadata": {
        "id": "qpqN4mm6Oj1W"
      }
    },
    {
      "cell_type": "markdown",
      "source": [
        "## Lowering DataFrame's Column Names"
      ],
      "metadata": {
        "id": "HH6JPeyc4rFz"
      }
    },
    {
      "cell_type": "code",
      "source": [],
      "metadata": {
        "id": "bX6Cg1lV4rFz"
      },
      "execution_count": null,
      "outputs": []
    },
    {
      "cell_type": "code",
      "source": [],
      "metadata": {
        "id": "Ot7phobc4qib"
      },
      "execution_count": null,
      "outputs": []
    },
    {
      "cell_type": "markdown",
      "source": [
        "## Check Missing Values"
      ],
      "metadata": {
        "id": "F2F8Ly8BOM_r"
      }
    },
    {
      "cell_type": "code",
      "source": [],
      "metadata": {
        "id": "ArLsVDSKOMta"
      },
      "execution_count": null,
      "outputs": []
    },
    {
      "cell_type": "markdown",
      "source": [
        "## Check For Duplicates"
      ],
      "metadata": {
        "id": "26VghP8nOQnU"
      }
    },
    {
      "cell_type": "code",
      "source": [],
      "metadata": {
        "id": "oF3JJhwxOGhL"
      },
      "execution_count": null,
      "outputs": []
    },
    {
      "cell_type": "code",
      "source": [],
      "metadata": {
        "id": "6e6ekhSr7OPI"
      },
      "execution_count": null,
      "outputs": []
    },
    {
      "cell_type": "markdown",
      "source": [
        "# Data Cleaning + Feature Engineering (FE)"
      ],
      "metadata": {
        "id": "3rl6ufPIO1lE"
      }
    },
    {
      "cell_type": "markdown",
      "source": [
        "## Laptop ID"
      ],
      "metadata": {
        "id": "uWLxs_JMPYER"
      }
    },
    {
      "cell_type": "code",
      "source": [],
      "metadata": {
        "id": "chDKjBVeO4-1"
      },
      "execution_count": null,
      "outputs": []
    },
    {
      "cell_type": "code",
      "source": [],
      "metadata": {
        "id": "k9QmRDFt8rzA"
      },
      "execution_count": null,
      "outputs": []
    },
    {
      "cell_type": "code",
      "source": [],
      "metadata": {
        "id": "zGXlRvjz8re5"
      },
      "execution_count": null,
      "outputs": []
    },
    {
      "cell_type": "markdown",
      "source": [
        "## Screen Resolution"
      ],
      "metadata": {
        "id": "5oBC4NqePbbd"
      }
    },
    {
      "cell_type": "code",
      "source": [],
      "metadata": {
        "id": "jsU2afsYkwuV"
      },
      "execution_count": null,
      "outputs": []
    },
    {
      "cell_type": "code",
      "source": [],
      "metadata": {
        "id": "fpt-yOPjkv5X"
      },
      "execution_count": null,
      "outputs": []
    },
    {
      "cell_type": "markdown",
      "source": [
        "### FE on Screen Resolution"
      ],
      "metadata": {
        "id": "06mM0WDRQG90"
      }
    },
    {
      "cell_type": "code",
      "source": [],
      "metadata": {
        "id": "zBsKCp3HDuKX"
      },
      "execution_count": null,
      "outputs": []
    },
    {
      "cell_type": "code",
      "source": [],
      "metadata": {
        "id": "bSGXJhXrDuHP"
      },
      "execution_count": null,
      "outputs": []
    },
    {
      "cell_type": "code",
      "source": [],
      "metadata": {
        "id": "Qx1YznGiDuDv"
      },
      "execution_count": null,
      "outputs": []
    },
    {
      "cell_type": "code",
      "source": [],
      "metadata": {
        "id": "PNbm_kcMICGH"
      },
      "execution_count": null,
      "outputs": []
    },
    {
      "cell_type": "code",
      "source": [],
      "metadata": {
        "id": "DzH3IQyGHUgW"
      },
      "execution_count": null,
      "outputs": []
    },
    {
      "cell_type": "code",
      "source": [],
      "metadata": {
        "id": "Z4MuaRSrHI60"
      },
      "execution_count": null,
      "outputs": []
    },
    {
      "cell_type": "code",
      "source": [],
      "metadata": {
        "id": "Rar3sTdbHI38"
      },
      "execution_count": null,
      "outputs": []
    },
    {
      "cell_type": "code",
      "source": [],
      "metadata": {
        "id": "cSzTzn-cHI1F"
      },
      "execution_count": null,
      "outputs": []
    },
    {
      "cell_type": "code",
      "source": [],
      "metadata": {
        "id": "cj3JmEHCKU_q"
      },
      "execution_count": null,
      "outputs": []
    },
    {
      "cell_type": "code",
      "source": [],
      "metadata": {
        "id": "sKQKxZY4KU74"
      },
      "execution_count": null,
      "outputs": []
    },
    {
      "cell_type": "markdown",
      "source": [
        "## CPU"
      ],
      "metadata": {
        "id": "NFImSEWTPkMD"
      }
    },
    {
      "cell_type": "code",
      "source": [],
      "metadata": {
        "id": "kKsfjqtRO6Dq"
      },
      "execution_count": null,
      "outputs": []
    },
    {
      "cell_type": "code",
      "source": [],
      "metadata": {
        "id": "_HYYe6Mvk96b"
      },
      "execution_count": null,
      "outputs": []
    },
    {
      "cell_type": "code",
      "source": [],
      "metadata": {
        "id": "mVWU33oUk934"
      },
      "execution_count": null,
      "outputs": []
    },
    {
      "cell_type": "markdown",
      "source": [
        "## RAM"
      ],
      "metadata": {
        "id": "uyi5D3KYQAii"
      }
    },
    {
      "cell_type": "code",
      "source": [],
      "metadata": {
        "id": "11cE0UMFlAEk"
      },
      "execution_count": null,
      "outputs": []
    },
    {
      "cell_type": "code",
      "source": [],
      "metadata": {
        "id": "FEpmtUvNlABo"
      },
      "execution_count": null,
      "outputs": []
    },
    {
      "cell_type": "markdown",
      "source": [
        "## Memory (Drive)"
      ],
      "metadata": {
        "id": "2DK9ImqYQCqq"
      }
    },
    {
      "cell_type": "code",
      "source": [],
      "metadata": {
        "id": "z8DKXjsNlEJT"
      },
      "execution_count": null,
      "outputs": []
    },
    {
      "cell_type": "code",
      "source": [],
      "metadata": {
        "id": "F7JpNYmxlEGs"
      },
      "execution_count": null,
      "outputs": []
    },
    {
      "cell_type": "code",
      "source": [],
      "metadata": {
        "id": "FD4hpMZAlED9"
      },
      "execution_count": null,
      "outputs": []
    },
    {
      "cell_type": "markdown",
      "source": [
        "## Weight"
      ],
      "metadata": {
        "id": "cB-eDyhhRcRN"
      }
    },
    {
      "cell_type": "code",
      "source": [],
      "metadata": {
        "id": "9__aRBoXlIKc"
      },
      "execution_count": null,
      "outputs": []
    },
    {
      "cell_type": "code",
      "source": [],
      "metadata": {
        "id": "llrTCO6ilIH8"
      },
      "execution_count": null,
      "outputs": []
    },
    {
      "cell_type": "code",
      "source": [],
      "metadata": {
        "id": "tRy4EMWRlIFe"
      },
      "execution_count": null,
      "outputs": []
    },
    {
      "cell_type": "markdown",
      "source": [
        "## CPU & GPU Manifacturing Companies"
      ],
      "metadata": {
        "id": "2a-_FETsRj6N"
      }
    },
    {
      "cell_type": "code",
      "source": [],
      "metadata": {
        "id": "ZqEfqw-blMQ7"
      },
      "execution_count": null,
      "outputs": []
    },
    {
      "cell_type": "code",
      "source": [],
      "metadata": {
        "id": "AuUYioo1lMOj"
      },
      "execution_count": null,
      "outputs": []
    },
    {
      "cell_type": "code",
      "source": [],
      "metadata": {
        "id": "x53YdaOclMLr"
      },
      "execution_count": null,
      "outputs": []
    },
    {
      "cell_type": "code",
      "source": [],
      "metadata": {
        "id": "hYvcWYtPlMJM"
      },
      "execution_count": null,
      "outputs": []
    },
    {
      "cell_type": "code",
      "source": [],
      "metadata": {
        "id": "b6VZKMbjlMGV"
      },
      "execution_count": null,
      "outputs": []
    },
    {
      "cell_type": "markdown",
      "source": [
        "Now the dataset looks clean and ready to be explored"
      ],
      "metadata": {
        "id": "GFdgDNZqY0OC"
      }
    },
    {
      "cell_type": "code",
      "source": [
        "df.to_csv('[Cleaned]Laptop_Price.csv', index=False)"
      ],
      "metadata": {
        "id": "v7WXzk10Y4lT"
      },
      "execution_count": null,
      "outputs": []
    },
    {
      "cell_type": "markdown",
      "source": [
        "# Exploratory Data Analysis (EDA)"
      ],
      "metadata": {
        "id": "Ofz4iWPuPMaO"
      }
    },
    {
      "cell_type": "markdown",
      "source": [
        "## Load Cleaned Dataset"
      ],
      "metadata": {
        "id": "mPLB3DFiZ_dA"
      }
    },
    {
      "cell_type": "code",
      "source": [],
      "metadata": {
        "id": "6d2QEkMYlPqk"
      },
      "execution_count": null,
      "outputs": []
    },
    {
      "cell_type": "code",
      "source": [],
      "metadata": {
        "id": "Y3fyaOjhlPot"
      },
      "execution_count": null,
      "outputs": []
    },
    {
      "cell_type": "code",
      "source": [],
      "metadata": {
        "id": "Z_Mpsho-lPmE"
      },
      "execution_count": null,
      "outputs": []
    },
    {
      "cell_type": "markdown",
      "source": [
        "## Custom functions to improve plot readability"
      ],
      "metadata": {
        "id": "HCZNT5Kgabig"
      }
    },
    {
      "cell_type": "code",
      "source": [
        "def num_plot(df, col, title, symb):\n",
        "    fig, ax = plt.subplots(2, 1, sharex=True, figsize=(8,5),gridspec_kw={\"height_ratios\": (.2, .8)})\n",
        "    ax[0].set_title(title,fontsize=18)\n",
        "    sns.boxplot(x=col, data=df, ax=ax[0])\n",
        "    ax[0].set(yticks=[])\n",
        "    sns.histplot(x=col, data=df, ax=ax[1])\n",
        "    ax[1].set_xlabel(col, fontsize=16)\n",
        "    plt.axvline(df[col].mean(), color='darkgreen', linewidth=2.2, label='mean=' + str(np.round(df[col].mean(),1)) + symb)\n",
        "    plt.axvline(df[col].median(), color='red', linewidth=2.2, label='median='+ str(np.round(df[col].median(),1)) + symb)\n",
        "    plt.axvline(df[col].mode()[0], color='purple', linewidth=2.2, label='mode='+ str(df[col].mode()[0]) + symb)\n",
        "    plt.legend(bbox_to_anchor=(1, 1.03), ncol=1, fontsize=17, fancybox=True, shadow=True, frameon=True)\n",
        "    plt.tight_layout()\n",
        "    plt.show()"
      ],
      "metadata": {
        "id": "aVjEbs27R6uk"
      },
      "execution_count": null,
      "outputs": []
    },
    {
      "cell_type": "markdown",
      "source": [
        "## Which brand is the most frequent in the dataframe?"
      ],
      "metadata": {
        "id": "N2MmmIFLa62y"
      }
    },
    {
      "cell_type": "code",
      "source": [],
      "metadata": {
        "id": "XNxQlRcdlR6U"
      },
      "execution_count": null,
      "outputs": []
    },
    {
      "cell_type": "code",
      "source": [],
      "metadata": {
        "id": "tq8s5pHKlR3d"
      },
      "execution_count": null,
      "outputs": []
    },
    {
      "cell_type": "markdown",
      "source": [
        "## What type of laptop is the most frequent?"
      ],
      "metadata": {
        "id": "SSobEkcFbL5J"
      }
    },
    {
      "cell_type": "code",
      "source": [],
      "metadata": {
        "id": "Ky1SYcA-R6pk"
      },
      "execution_count": null,
      "outputs": []
    },
    {
      "cell_type": "code",
      "source": [],
      "metadata": {
        "id": "uW_9_1cabZna"
      },
      "execution_count": null,
      "outputs": []
    },
    {
      "cell_type": "markdown",
      "source": [
        "## Which size is the most popular?"
      ],
      "metadata": {
        "id": "IiFPrWWdbkw4"
      }
    },
    {
      "cell_type": "code",
      "source": [],
      "metadata": {
        "id": "JC_vAmT0bfOp"
      },
      "execution_count": null,
      "outputs": []
    },
    {
      "cell_type": "code",
      "source": [],
      "metadata": {
        "id": "DnR9gG9IbxFD"
      },
      "execution_count": null,
      "outputs": []
    },
    {
      "cell_type": "code",
      "source": [],
      "metadata": {
        "id": "G6cWcuhalX70"
      },
      "execution_count": null,
      "outputs": []
    },
    {
      "cell_type": "code",
      "source": [],
      "metadata": {
        "id": "Nt6cDSkUlX5j"
      },
      "execution_count": null,
      "outputs": []
    },
    {
      "cell_type": "markdown",
      "source": [
        "## How is weight distributed among the laptops?"
      ],
      "metadata": {
        "id": "yWyYeoNcdQFV"
      }
    },
    {
      "cell_type": "code",
      "source": [],
      "metadata": {
        "id": "Y-NU36r-lY92"
      },
      "execution_count": null,
      "outputs": []
    },
    {
      "cell_type": "code",
      "source": [],
      "metadata": {
        "id": "XQFQBOG5lY7X"
      },
      "execution_count": null,
      "outputs": []
    },
    {
      "cell_type": "markdown",
      "source": [
        "## How is price distributed among the laptops?"
      ],
      "metadata": {
        "id": "TnY5TwRidnau"
      }
    },
    {
      "cell_type": "code",
      "source": [],
      "metadata": {
        "id": "Lv_9SWPPlcNc"
      },
      "execution_count": null,
      "outputs": []
    },
    {
      "cell_type": "code",
      "source": [],
      "metadata": {
        "id": "i1sSumDKlcKu"
      },
      "execution_count": null,
      "outputs": []
    },
    {
      "cell_type": "code",
      "source": [],
      "metadata": {
        "id": "X_ejPYVPlcH0"
      },
      "execution_count": null,
      "outputs": []
    },
    {
      "cell_type": "markdown",
      "source": [
        "## How is RAM distributed among the laptops?"
      ],
      "metadata": {
        "id": "fr3kex_qfCWg"
      }
    },
    {
      "cell_type": "code",
      "source": [],
      "metadata": {
        "id": "eJGNn5FvegnK"
      },
      "execution_count": null,
      "outputs": []
    },
    {
      "cell_type": "code",
      "source": [],
      "metadata": {
        "id": "pmAy-ZkKfHWG"
      },
      "execution_count": null,
      "outputs": []
    },
    {
      "cell_type": "markdown",
      "source": [
        "## How is CPU frequency distributed among the laptops?"
      ],
      "metadata": {
        "id": "WQJHQ4V1fX7Y"
      }
    },
    {
      "cell_type": "code",
      "source": [],
      "metadata": {
        "id": "YuF00bMKfU88"
      },
      "execution_count": null,
      "outputs": []
    },
    {
      "cell_type": "code",
      "source": [],
      "metadata": {
        "id": "XkOzh05cfck5"
      },
      "execution_count": null,
      "outputs": []
    },
    {
      "cell_type": "markdown",
      "source": [
        "## How is Hard Drive capacity distributed among the laptops?"
      ],
      "metadata": {
        "id": "blfg8lrcflm2"
      }
    },
    {
      "cell_type": "code",
      "source": [],
      "metadata": {
        "id": "JGFhFf3Lfg4R"
      },
      "execution_count": null,
      "outputs": []
    },
    {
      "cell_type": "code",
      "source": [],
      "metadata": {
        "id": "IAlxf5Etfs8U"
      },
      "execution_count": null,
      "outputs": []
    },
    {
      "cell_type": "markdown",
      "source": [
        "## Price VS CPU brand by GPU brand"
      ],
      "metadata": {
        "id": "sj15Uks3gMgm"
      }
    },
    {
      "cell_type": "code",
      "source": [],
      "metadata": {
        "id": "g1_5X7OAf1Qn"
      },
      "execution_count": null,
      "outputs": []
    },
    {
      "cell_type": "markdown",
      "source": [
        "Insights from this plot:\n",
        "\n",
        "* ...\n",
        "* ...\n",
        "* ..."
      ],
      "metadata": {
        "id": "bHsh7-KvgTj9"
      }
    },
    {
      "cell_type": "markdown",
      "source": [
        "## Which are the TOP 15 most common GPUs?"
      ],
      "metadata": {
        "id": "8OWYSu0HgaTm"
      }
    },
    {
      "cell_type": "code",
      "source": [],
      "metadata": {
        "id": "HxNPBKtEgKgM"
      },
      "execution_count": null,
      "outputs": []
    },
    {
      "cell_type": "code",
      "source": [],
      "metadata": {
        "id": "iZQWAAZJgzYb"
      },
      "execution_count": null,
      "outputs": []
    },
    {
      "cell_type": "markdown",
      "source": [
        "## Which are the TOP 15 most common CPUs?"
      ],
      "metadata": {
        "id": "pyOm6x3QhMLI"
      }
    },
    {
      "cell_type": "code",
      "source": [],
      "metadata": {
        "id": "XRQNz6aHg9VZ"
      },
      "execution_count": null,
      "outputs": []
    },
    {
      "cell_type": "code",
      "source": [],
      "metadata": {
        "id": "XwjXoojFhYlR"
      },
      "execution_count": null,
      "outputs": []
    },
    {
      "cell_type": "code",
      "source": [],
      "metadata": {
        "id": "FLsFgZiqlrn-"
      },
      "execution_count": null,
      "outputs": []
    },
    {
      "cell_type": "markdown",
      "source": [
        "## What is the average price of laptops by company?"
      ],
      "metadata": {
        "id": "KhrDEEx0h7bM"
      }
    },
    {
      "cell_type": "code",
      "source": [],
      "metadata": {
        "id": "I7MaDwnQlvID"
      },
      "execution_count": null,
      "outputs": []
    },
    {
      "cell_type": "code",
      "source": [],
      "metadata": {
        "id": "2IgRpBdPlvxm"
      },
      "execution_count": null,
      "outputs": []
    },
    {
      "cell_type": "code",
      "source": [],
      "metadata": {
        "id": "6m6n8vaUlwFn"
      },
      "execution_count": null,
      "outputs": []
    },
    {
      "cell_type": "markdown",
      "source": [
        "Insights:\n",
        "* ...\n",
        "* ...\n",
        "* ..."
      ],
      "metadata": {
        "id": "8BIK0f3rizWM"
      }
    },
    {
      "cell_type": "code",
      "source": [],
      "metadata": {
        "id": "NuYzEmruij-p"
      },
      "execution_count": null,
      "outputs": []
    }
  ]
}